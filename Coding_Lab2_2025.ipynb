{
  "nbformat": 4,
  "nbformat_minor": 0,
  "metadata": {
    "colab": {
      "provenance": [],
      "include_colab_link": true
    },
    "kernelspec": {
      "name": "python3",
      "display_name": "Python 3"
    },
    "language_info": {
      "name": "python"
    }
  },
  "cells": [
    {
      "cell_type": "markdown",
      "metadata": {
        "id": "view-in-github",
        "colab_type": "text"
      },
      "source": [
        "<a href=\"https://colab.research.google.com/github/madamore-1/IST692/blob/main/Coding_Lab2_2025.ipynb\" target=\"_parent\"><img src=\"https://colab.research.google.com/assets/colab-badge.svg\" alt=\"Open In Colab\"/></a>"
      ]
    },
    {
      "cell_type": "markdown",
      "source": [
        "## Lab 2: Ethical Theories in AI & the Moral Machine Experiment\n",
        "\n",
        "This week's lab builds upon the foundation of exploring different ethical theories related to algorithmic decision-making. It presents a simplified illustration of the Moral Machine experiment and its results to connect utilitarianism, deontology, and virtue ethics—with real-world algorithmic decision-making.\n",
        "\n",
        "We will create a simplified simulation of the Moral Machine experiment to understand how different ethical theories could influence AI decision-making. There are three steps to this process:\n",
        "\n",
        "1. Simulating moral dilemmas\n",
        "2. Using Python to calculate the consequences of different decision-making approaches\n",
        "3. Comparing outcomes through visualizations\n",
        "\n",
        "We'll start by importing the required packages:"
      ],
      "metadata": {
        "id": "D-zuCJeEUGaE"
      }
    },
    {
      "cell_type": "code",
      "execution_count": null,
      "metadata": {
        "id": "MOJuwq92UDBu"
      },
      "outputs": [],
      "source": [
        "import pandas as pd\n",
        "import random\n",
        "import matplotlib.pyplot as plt\n",
        "import seaborn as sns"
      ]
    },
    {
      "cell_type": "markdown",
      "source": [
        "### Step 1: Simulating Moral Dilemmas\n",
        "We'll generate a synthetic dataset representing 100 simulated scenarios where an autonomous car faces a decision. Each scenario includes:\n",
        "\n",
        "- Passengers: Number and attributes of passengers in the car.\n",
        "- Pedestrians: Number and attributes of pedestrians outside the car.\n",
        "- Action: Decision of whether to \"stay on course\" or \"swerve.\"\n",
        "\n",
        "Hint: Attributes (e.g., age, profession, adherence to traffic laws) influence ethical choices.\n",
        "\n",
        "Let's first generate the dataset:"
      ],
      "metadata": {
        "id": "rOHkXMHBVHYD"
      }
    },
    {
      "cell_type": "code",
      "source": [
        "scenarios = []\n",
        "for _ in range(100):\n",
        "    scenario = {\n",
        "        'passengers': random.randint(1, 5),\n",
        "        'pedestrians': random.randint(1, 5),\n",
        "        'passenger_elderly': random.randint(0, 1),\n",
        "        'pedestrian_elderly': random.randint(0, 1),\n",
        "        'pedestrian_jaywalker': random.randint(0, 1),\n",
        "        'action': random.choice(['stay', 'swerve']),\n",
        "    }\n",
        "    scenarios.append(scenario)\n",
        "\n",
        "df = pd.DataFrame(scenarios)\n",
        "\n",
        "df"
      ],
      "metadata": {
        "id": "nl-oObe7VeDH"
      },
      "execution_count": null,
      "outputs": []
    },
    {
      "cell_type": "markdown",
      "source": [
        "Next, we will define the set of ethical theories, which will serve as our decision-making models:\n",
        "- Utilitarianism: Choose the action that minimizes total harm (e.g., prioritize saving more lives).\n",
        "- Deontology: Follow fixed rules (e.g., never harm pedestrians unless they are jaywalking).\n",
        "- Virtue Ethics: Make decisions based on character traits (e.g., prioritize saving the law-abiding)."
      ],
      "metadata": {
        "id": "hpVTECHEVi-J"
      }
    },
    {
      "cell_type": "code",
      "source": [
        "def utilitarian_decision(row):\n",
        "    \"\"\"Minimize harm by saving more lives.\"\"\"\n",
        "    if row['passengers'] > row['pedestrians']:\n",
        "        return 'stay'\n",
        "    return 'swerve'\n",
        "\n",
        "def deontological_decision(row):\n",
        "    \"\"\"Prioritize rules, penalizing jaywalkers.\"\"\"\n",
        "    if row['pedestrian_jaywalker']:\n",
        "        return 'stay'\n",
        "    return 'swerve'\n",
        "\n",
        "def virtue_ethics_decision(row):\n",
        "    \"\"\"Favor elderly and law-abiding individuals.\"\"\"\n",
        "    if row['pedestrian_elderly'] > row['passenger_elderly']:\n",
        "        return 'swerve'\n",
        "    return 'stay'"
      ],
      "metadata": {
        "id": "vQHRcrCwV3wL"
      },
      "execution_count": null,
      "outputs": []
    },
    {
      "cell_type": "markdown",
      "source": [
        "### Step 2: Using Python to calculate the consequences of different decision-making approaches\n",
        "\n",
        "We can now apply these models to the data:"
      ],
      "metadata": {
        "id": "TXRHBVT1V6uW"
      }
    },
    {
      "cell_type": "code",
      "source": [
        "df['utilitarian'] = df.apply(utilitarian_decision, axis=1)\n",
        "df['deontology'] = df.apply(deontological_decision, axis=1)\n",
        "df['virtue_ethics'] = df.apply(virtue_ethics_decision, axis=1)\n",
        "\n",
        "df"
      ],
      "metadata": {
        "id": "F8FgJpWWV9Jf"
      },
      "execution_count": null,
      "outputs": []
    },
    {
      "cell_type": "markdown",
      "source": [
        "### Step 3: Comparing outcomes through visualizations\n",
        "\n",
        "Let's plot a decision comparison to visualize the model outcomes:"
      ],
      "metadata": {
        "id": "RYh3sIW7WAKq"
      }
    },
    {
      "cell_type": "code",
      "source": [
        "decision_counts = df[['utilitarian', 'deontology', 'virtue_ethics']].apply(pd.Series.value_counts)\n",
        "\n",
        "decision_counts.T.plot(kind='bar', figsize=(10, 6))\n",
        "plt.title('Comparison of Ethical Decisions')\n",
        "plt.xlabel('Ethical Theory')\n",
        "plt.ylabel('Count of Decisions')\n",
        "plt.legend(title='Decision')\n",
        "plt.show()"
      ],
      "metadata": {
        "id": "gLvDrEDHWXG8"
      },
      "execution_count": null,
      "outputs": []
    },
    {
      "cell_type": "markdown",
      "source": [
        "We can produce a more granular analysis by focusing on the key attributes in the data to visualize their impact on decision-making:"
      ],
      "metadata": {
        "id": "mWzQV-ZVWa-T"
      }
    },
    {
      "cell_type": "code",
      "source": [
        "df_encoded = pd.get_dummies(df, drop_first=True)\n",
        "\n",
        "plt.figure(figsize=(10, 6))\n",
        "sns.heatmap(df_encoded.corr(), annot=True, cmap=\"coolwarm\")\n",
        "plt.title('Correlation between encoded features and decisions')\n",
        "plt.show()"
      ],
      "metadata": {
        "id": "8nqEmBqPWk-v"
      },
      "execution_count": null,
      "outputs": []
    },
    {
      "cell_type": "markdown",
      "source": [
        "When reviewing the results, it may be worthwhile to ask ourselves questions such as:\n",
        "- Were there scenarios where maximizing lives contradicted moral intuitions?\n",
        "- Did strict rule-following (e.g., penalizing jaywalkers) lead to ethically dubious outcomes?\n",
        "- Were decisions favoring certain groups (e.g., elderly) always morally justifiable?\n",
        "\n",
        "### Your Task\n",
        "\n",
        "In 1-2 paragraphs:\n",
        "- analyze one scenario where the ethical theories disagree on the decision.\n",
        "- discuss the challenges of encoding moral reasoning into AI systems."
      ],
      "metadata": {
        "id": "pnOGqbxCWu2n"
      }
    },
    {
      "cell_type": "markdown",
      "source": [
        "[YOUR ANSWER GOES HERE]"
      ],
      "metadata": {
        "id": "0joNEZMrXZby"
      }
    }
  ]
}